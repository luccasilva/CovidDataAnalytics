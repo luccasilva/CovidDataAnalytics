{
 "cells": [
  {
   "cell_type": "markdown",
   "metadata": {},
   "source": [
    "### Importações"
   ]
  },
  {
   "cell_type": "code",
   "execution_count": 30,
   "metadata": {},
   "outputs": [],
   "source": [
    "import pandas as pd\n",
    "import geopandas as gpd\n",
    "import matplotlib\n",
    "import matplotlib.pyplot as plt\n",
    "from geobr import read_state\n",
    "from geobr import read_municipality\n",
    "import numpy as np"
   ]
  },
  {
   "cell_type": "markdown",
   "metadata": {},
   "source": [
    "# Tratamento"
   ]
  },
  {
   "cell_type": "markdown",
   "metadata": {},
   "source": [
    "O objetivo aqui é chegar a um DataFrame com colunas identificando o local, o ano e a razão entre idosas e idosos, preenchido com uma linha para cada ano e para cada cidade."
   ]
  },
  {
   "cell_type": "markdown",
   "metadata": {},
   "source": [
    "### Lendo o CSV"
   ]
  },
  {
   "cell_type": "code",
   "execution_count": 3,
   "metadata": {},
   "outputs": [],
   "source": [
    "df = pd.read_csv('pop.csv')"
   ]
  },
  {
   "cell_type": "markdown",
   "metadata": {},
   "source": [
    "### Obtendo intervalos de idade a partir dos 60 anos"
   ]
  },
  {
   "cell_type": "code",
   "execution_count": 4,
   "metadata": {},
   "outputs": [],
   "source": [
    "ageRanges = df.columns[17:-2]"
   ]
  },
  {
   "cell_type": "code",
   "execution_count": 5,
   "metadata": {},
   "outputs": [
    {
     "data": {
      "text/plain": [
       "Index(['60-65', '65-70', '70-75', '75-80', '80-85', '85-90'], dtype='object')"
      ]
     },
     "execution_count": 5,
     "metadata": {},
     "output_type": "execute_result"
    }
   ],
   "source": [
    "ageRanges"
   ]
  },
  {
   "cell_type": "code",
   "execution_count": 6,
   "metadata": {},
   "outputs": [],
   "source": [
    "df[\"old\"] = \"\""
   ]
  },
  {
   "cell_type": "code",
   "execution_count": 7,
   "metadata": {},
   "outputs": [
    {
     "data": {
      "text/plain": [
       "array([2010, 2011, 2012, 2013, 2014, 2015, 2016, 2017, 2018, 2019, 2020],\n",
       "      dtype=int64)"
      ]
     },
     "execution_count": 7,
     "metadata": {},
     "output_type": "execute_result"
    }
   ],
   "source": [
    "df[\"Ano\"].unique()"
   ]
  },
  {
   "cell_type": "code",
   "execution_count": 8,
   "metadata": {},
   "outputs": [
    {
     "name": "stdout",
     "output_type": "stream",
     "text": [
      "811.744905732241\n"
     ]
    }
   ],
   "source": [
    "print(df[\"5-10\"][1])"
   ]
  },
  {
   "cell_type": "markdown",
   "metadata": {},
   "source": [
    "## Calculando a projeção do total de idosos"
   ]
  },
  {
   "cell_type": "code",
   "execution_count": 9,
   "metadata": {},
   "outputs": [
    {
     "name": "stderr",
     "output_type": "stream",
     "text": [
      "<ipython-input-9-1fa93c7800bc>:5: SettingWithCopyWarning: \n",
      "A value is trying to be set on a copy of a slice from a DataFrame\n",
      "\n",
      "See the caveats in the documentation: https://pandas.pydata.org/pandas-docs/stable/user_guide/indexing.html#returning-a-view-versus-a-copy\n",
      "  df[\"old\"][i] = total\n"
     ]
    }
   ],
   "source": [
    "for i in range(len(df)):\n",
    "    total = 0\n",
    "    for j in ageRanges:\n",
    "        total += df[j][i]\n",
    "    df[\"old\"][i] = total"
   ]
  },
  {
   "cell_type": "markdown",
   "metadata": {},
   "source": [
    "## Descartando intervalos de idade"
   ]
  },
  {
   "cell_type": "code",
   "execution_count": 10,
   "metadata": {},
   "outputs": [
    {
     "data": {
      "text/plain": [
       "Index(['Ano', 'ARmaior', 'Sexo', 'Armenor', 'NomeMunic', '0-5', '5-10',\n",
       "       '10-15', '15-20', '20-25', '25-30', '30-35', '35-40', '40-45', '45-50',\n",
       "       '50-55', '55-60', '60-65', '65-70', '70-75', '75-80', '80-85', '85-90',\n",
       "       '90+', 'Total', 'old'],\n",
       "      dtype='object')"
      ]
     },
     "execution_count": 10,
     "metadata": {},
     "output_type": "execute_result"
    }
   ],
   "source": [
    "df.columns"
   ]
  },
  {
   "cell_type": "code",
   "execution_count": 11,
   "metadata": {},
   "outputs": [],
   "source": [
    "ageRanges = df.columns[5:-1]"
   ]
  },
  {
   "cell_type": "code",
   "execution_count": 12,
   "metadata": {},
   "outputs": [
    {
     "data": {
      "text/plain": [
       "Index(['0-5', '5-10', '10-15', '15-20', '20-25', '25-30', '30-35', '35-40',\n",
       "       '40-45', '45-50', '50-55', '55-60', '60-65', '65-70', '70-75', '75-80',\n",
       "       '80-85', '85-90', '90+', 'Total'],\n",
       "      dtype='object')"
      ]
     },
     "execution_count": 12,
     "metadata": {},
     "output_type": "execute_result"
    }
   ],
   "source": [
    "ageRanges"
   ]
  },
  {
   "cell_type": "code",
   "execution_count": 13,
   "metadata": {},
   "outputs": [],
   "source": [
    "for i in ageRanges:\n",
    "    df = df.drop(columns = i)"
   ]
  },
  {
   "cell_type": "markdown",
   "metadata": {},
   "source": [
    "## Agregando números de idosos e idosas"
   ]
  },
  {
   "cell_type": "code",
   "execution_count": 14,
   "metadata": {},
   "outputs": [],
   "source": [
    "df[[\"f\", \"m\", \"ratio\"]] = \"\""
   ]
  },
  {
   "cell_type": "markdown",
   "metadata": {},
   "source": [
    "Aqui, o valor de uma linha ímpar sempre será a quantidade de homens. Assim, esse iterador parte de cada linha par e calcula a coluna \"m\" e a razão com base na próxima."
   ]
  },
  {
   "cell_type": "code",
   "execution_count": 15,
   "metadata": {},
   "outputs": [
    {
     "name": "stderr",
     "output_type": "stream",
     "text": [
      "<ipython-input-15-56bd9eed66a9>:5: SettingWithCopyWarning: \n",
      "A value is trying to be set on a copy of a slice from a DataFrame\n",
      "\n",
      "See the caveats in the documentation: https://pandas.pydata.org/pandas-docs/stable/user_guide/indexing.html#returning-a-view-versus-a-copy\n",
      "  df[\"f\"][i] = currentValue\n",
      "<ipython-input-15-56bd9eed66a9>:6: SettingWithCopyWarning: \n",
      "A value is trying to be set on a copy of a slice from a DataFrame\n",
      "\n",
      "See the caveats in the documentation: https://pandas.pydata.org/pandas-docs/stable/user_guide/indexing.html#returning-a-view-versus-a-copy\n",
      "  df[\"m\"][i] = nextValue\n",
      "<ipython-input-15-56bd9eed66a9>:8: SettingWithCopyWarning: \n",
      "A value is trying to be set on a copy of a slice from a DataFrame\n",
      "\n",
      "See the caveats in the documentation: https://pandas.pydata.org/pandas-docs/stable/user_guide/indexing.html#returning-a-view-versus-a-copy\n",
      "  df[\"ratio\"][i] = (currentValue)/(nextValue)\n"
     ]
    }
   ],
   "source": [
    "for i in range(len(df)):\n",
    "    if i % 2 == 0:\n",
    "        nextValue = df[\"old\"][i + 1]\n",
    "        currentValue = df[\"old\"][i]\n",
    "        df[\"f\"][i] = currentValue\n",
    "        df[\"m\"][i] = nextValue\n",
    "        if nextValue > 0: # Para contornar os NaN\n",
    "            df[\"ratio\"][i] = (currentValue)/(nextValue)"
   ]
  },
  {
   "cell_type": "code",
   "execution_count": 16,
   "metadata": {},
   "outputs": [
    {
     "data": {
      "text/html": [
       "<div>\n",
       "<style scoped>\n",
       "    .dataframe tbody tr th:only-of-type {\n",
       "        vertical-align: middle;\n",
       "    }\n",
       "\n",
       "    .dataframe tbody tr th {\n",
       "        vertical-align: top;\n",
       "    }\n",
       "\n",
       "    .dataframe thead th {\n",
       "        text-align: right;\n",
       "    }\n",
       "</style>\n",
       "<table border=\"1\" class=\"dataframe\">\n",
       "  <thead>\n",
       "    <tr style=\"text-align: right;\">\n",
       "      <th></th>\n",
       "      <th>Ano</th>\n",
       "      <th>ARmaior</th>\n",
       "      <th>Sexo</th>\n",
       "      <th>Armenor</th>\n",
       "      <th>NomeMunic</th>\n",
       "      <th>old</th>\n",
       "      <th>f</th>\n",
       "      <th>m</th>\n",
       "      <th>ratio</th>\n",
       "    </tr>\n",
       "  </thead>\n",
       "  <tbody>\n",
       "    <tr>\n",
       "      <th>0</th>\n",
       "      <td>2010</td>\n",
       "      <td>ACRE</td>\n",
       "      <td>f</td>\n",
       "      <td>1200013</td>\n",
       "      <td>Acrelândia - AC</td>\n",
       "      <td>338.301</td>\n",
       "      <td>338.301</td>\n",
       "      <td>519.566</td>\n",
       "      <td>0.651123</td>\n",
       "    </tr>\n",
       "    <tr>\n",
       "      <th>1</th>\n",
       "      <td>2010</td>\n",
       "      <td>ACRE</td>\n",
       "      <td>m</td>\n",
       "      <td>1200013</td>\n",
       "      <td>Acrelândia - AC</td>\n",
       "      <td>519.566</td>\n",
       "      <td></td>\n",
       "      <td></td>\n",
       "      <td></td>\n",
       "    </tr>\n",
       "    <tr>\n",
       "      <th>2</th>\n",
       "      <td>2010</td>\n",
       "      <td>ACRE</td>\n",
       "      <td>f</td>\n",
       "      <td>1200054</td>\n",
       "      <td>Assis Brasil - AC</td>\n",
       "      <td>169.161</td>\n",
       "      <td>169.161</td>\n",
       "      <td>207.609</td>\n",
       "      <td>0.814806</td>\n",
       "    </tr>\n",
       "    <tr>\n",
       "      <th>3</th>\n",
       "      <td>2010</td>\n",
       "      <td>ACRE</td>\n",
       "      <td>m</td>\n",
       "      <td>1200054</td>\n",
       "      <td>Assis Brasil - AC</td>\n",
       "      <td>207.609</td>\n",
       "      <td></td>\n",
       "      <td></td>\n",
       "      <td></td>\n",
       "    </tr>\n",
       "    <tr>\n",
       "      <th>4</th>\n",
       "      <td>2010</td>\n",
       "      <td>ACRE</td>\n",
       "      <td>f</td>\n",
       "      <td>1200104</td>\n",
       "      <td>Brasiléia - AC</td>\n",
       "      <td>728.267</td>\n",
       "      <td>728.267</td>\n",
       "      <td>862.886</td>\n",
       "      <td>0.84399</td>\n",
       "    </tr>\n",
       "    <tr>\n",
       "      <th>...</th>\n",
       "      <td>...</td>\n",
       "      <td>...</td>\n",
       "      <td>...</td>\n",
       "      <td>...</td>\n",
       "      <td>...</td>\n",
       "      <td>...</td>\n",
       "      <td>...</td>\n",
       "      <td>...</td>\n",
       "      <td>...</td>\n",
       "    </tr>\n",
       "    <tr>\n",
       "      <th>122535</th>\n",
       "      <td>2020</td>\n",
       "      <td>TOCANTINS</td>\n",
       "      <td>m</td>\n",
       "      <td>1721307</td>\n",
       "      <td>Tupiratins - TO</td>\n",
       "      <td>194.828</td>\n",
       "      <td></td>\n",
       "      <td></td>\n",
       "      <td></td>\n",
       "    </tr>\n",
       "    <tr>\n",
       "      <th>122536</th>\n",
       "      <td>2020</td>\n",
       "      <td>TOCANTINS</td>\n",
       "      <td>f</td>\n",
       "      <td>1722081</td>\n",
       "      <td>Wanderlândia - TO</td>\n",
       "      <td>678.635</td>\n",
       "      <td>678.635</td>\n",
       "      <td>738.011</td>\n",
       "      <td>0.919547</td>\n",
       "    </tr>\n",
       "    <tr>\n",
       "      <th>122537</th>\n",
       "      <td>2020</td>\n",
       "      <td>TOCANTINS</td>\n",
       "      <td>m</td>\n",
       "      <td>1722081</td>\n",
       "      <td>Wanderlândia - TO</td>\n",
       "      <td>738.011</td>\n",
       "      <td></td>\n",
       "      <td></td>\n",
       "      <td></td>\n",
       "    </tr>\n",
       "    <tr>\n",
       "      <th>122538</th>\n",
       "      <td>2020</td>\n",
       "      <td>TOCANTINS</td>\n",
       "      <td>f</td>\n",
       "      <td>1722107</td>\n",
       "      <td>Xambioá - TO</td>\n",
       "      <td>653.902</td>\n",
       "      <td>653.902</td>\n",
       "      <td>601.947</td>\n",
       "      <td>1.08631</td>\n",
       "    </tr>\n",
       "    <tr>\n",
       "      <th>122539</th>\n",
       "      <td>2020</td>\n",
       "      <td>TOCANTINS</td>\n",
       "      <td>m</td>\n",
       "      <td>1722107</td>\n",
       "      <td>Xambioá - TO</td>\n",
       "      <td>601.947</td>\n",
       "      <td></td>\n",
       "      <td></td>\n",
       "      <td></td>\n",
       "    </tr>\n",
       "  </tbody>\n",
       "</table>\n",
       "<p>122540 rows × 9 columns</p>\n",
       "</div>"
      ],
      "text/plain": [
       "         Ano    ARmaior Sexo  Armenor          NomeMunic      old        f  \\\n",
       "0       2010       ACRE    f  1200013    Acrelândia - AC  338.301  338.301   \n",
       "1       2010       ACRE    m  1200013    Acrelândia - AC  519.566            \n",
       "2       2010       ACRE    f  1200054  Assis Brasil - AC  169.161  169.161   \n",
       "3       2010       ACRE    m  1200054  Assis Brasil - AC  207.609            \n",
       "4       2010       ACRE    f  1200104     Brasiléia - AC  728.267  728.267   \n",
       "...      ...        ...  ...      ...                ...      ...      ...   \n",
       "122535  2020  TOCANTINS    m  1721307    Tupiratins - TO  194.828            \n",
       "122536  2020  TOCANTINS    f  1722081  Wanderlândia - TO  678.635  678.635   \n",
       "122537  2020  TOCANTINS    m  1722081  Wanderlândia - TO  738.011            \n",
       "122538  2020  TOCANTINS    f  1722107       Xambioá - TO  653.902  653.902   \n",
       "122539  2020  TOCANTINS    m  1722107       Xambioá - TO  601.947            \n",
       "\n",
       "              m     ratio  \n",
       "0       519.566  0.651123  \n",
       "1                          \n",
       "2       207.609  0.814806  \n",
       "3                          \n",
       "4       862.886   0.84399  \n",
       "...         ...       ...  \n",
       "122535                     \n",
       "122536  738.011  0.919547  \n",
       "122537                     \n",
       "122538  601.947   1.08631  \n",
       "122539                     \n",
       "\n",
       "[122540 rows x 9 columns]"
      ]
     },
     "execution_count": 16,
     "metadata": {},
     "output_type": "execute_result"
    }
   ],
   "source": [
    "df"
   ]
  },
  {
   "cell_type": "markdown",
   "metadata": {},
   "source": [
    "## Descartando linhas e coluns redundantes"
   ]
  },
  {
   "cell_type": "markdown",
   "metadata": {},
   "source": [
    "Agora que cada linha do DataFrame já apresenta informações relativas a ambos os sexos, podemos descartar colunas e linhas redundantes para manter o DataFrame limpo."
   ]
  },
  {
   "cell_type": "code",
   "execution_count": 17,
   "metadata": {},
   "outputs": [],
   "source": [
    "df = df.drop(df[df.Sexo == \"m\"].index)"
   ]
  },
  {
   "cell_type": "code",
   "execution_count": 18,
   "metadata": {},
   "outputs": [],
   "source": [
    "df = df.drop(columns = [\"Sexo\", \"old\"])"
   ]
  },
  {
   "cell_type": "code",
   "execution_count": 19,
   "metadata": {},
   "outputs": [
    {
     "data": {
      "text/html": [
       "<div>\n",
       "<style scoped>\n",
       "    .dataframe tbody tr th:only-of-type {\n",
       "        vertical-align: middle;\n",
       "    }\n",
       "\n",
       "    .dataframe tbody tr th {\n",
       "        vertical-align: top;\n",
       "    }\n",
       "\n",
       "    .dataframe thead th {\n",
       "        text-align: right;\n",
       "    }\n",
       "</style>\n",
       "<table border=\"1\" class=\"dataframe\">\n",
       "  <thead>\n",
       "    <tr style=\"text-align: right;\">\n",
       "      <th></th>\n",
       "      <th>Ano</th>\n",
       "      <th>ARmaior</th>\n",
       "      <th>Armenor</th>\n",
       "      <th>NomeMunic</th>\n",
       "      <th>f</th>\n",
       "      <th>m</th>\n",
       "      <th>ratio</th>\n",
       "    </tr>\n",
       "  </thead>\n",
       "  <tbody>\n",
       "    <tr>\n",
       "      <th>0</th>\n",
       "      <td>2010</td>\n",
       "      <td>ACRE</td>\n",
       "      <td>1200013</td>\n",
       "      <td>Acrelândia - AC</td>\n",
       "      <td>338.301</td>\n",
       "      <td>519.566</td>\n",
       "      <td>0.651123</td>\n",
       "    </tr>\n",
       "    <tr>\n",
       "      <th>2</th>\n",
       "      <td>2010</td>\n",
       "      <td>ACRE</td>\n",
       "      <td>1200054</td>\n",
       "      <td>Assis Brasil - AC</td>\n",
       "      <td>169.161</td>\n",
       "      <td>207.609</td>\n",
       "      <td>0.814806</td>\n",
       "    </tr>\n",
       "    <tr>\n",
       "      <th>4</th>\n",
       "      <td>2010</td>\n",
       "      <td>ACRE</td>\n",
       "      <td>1200104</td>\n",
       "      <td>Brasiléia - AC</td>\n",
       "      <td>728.267</td>\n",
       "      <td>862.886</td>\n",
       "      <td>0.84399</td>\n",
       "    </tr>\n",
       "    <tr>\n",
       "      <th>6</th>\n",
       "      <td>2010</td>\n",
       "      <td>ACRE</td>\n",
       "      <td>1200138</td>\n",
       "      <td>Bujari - AC</td>\n",
       "      <td>234.997</td>\n",
       "      <td>388.902</td>\n",
       "      <td>0.60426</td>\n",
       "    </tr>\n",
       "    <tr>\n",
       "      <th>8</th>\n",
       "      <td>2010</td>\n",
       "      <td>ACRE</td>\n",
       "      <td>1200179</td>\n",
       "      <td>Capixaba - AC</td>\n",
       "      <td>250.178</td>\n",
       "      <td>361.568</td>\n",
       "      <td>0.691925</td>\n",
       "    </tr>\n",
       "    <tr>\n",
       "      <th>...</th>\n",
       "      <td>...</td>\n",
       "      <td>...</td>\n",
       "      <td>...</td>\n",
       "      <td>...</td>\n",
       "      <td>...</td>\n",
       "      <td>...</td>\n",
       "      <td>...</td>\n",
       "    </tr>\n",
       "    <tr>\n",
       "      <th>122530</th>\n",
       "      <td>2020</td>\n",
       "      <td>TOCANTINS</td>\n",
       "      <td>1721208</td>\n",
       "      <td>Tocantinópolis - TO</td>\n",
       "      <td>1423.12</td>\n",
       "      <td>1186.91</td>\n",
       "      <td>1.19901</td>\n",
       "    </tr>\n",
       "    <tr>\n",
       "      <th>122532</th>\n",
       "      <td>2020</td>\n",
       "      <td>TOCANTINS</td>\n",
       "      <td>1721257</td>\n",
       "      <td>Tupirama - TO</td>\n",
       "      <td>97.7162</td>\n",
       "      <td>109.617</td>\n",
       "      <td>0.89143</td>\n",
       "    </tr>\n",
       "    <tr>\n",
       "      <th>122534</th>\n",
       "      <td>2020</td>\n",
       "      <td>TOCANTINS</td>\n",
       "      <td>1721307</td>\n",
       "      <td>Tupiratins - TO</td>\n",
       "      <td>148.155</td>\n",
       "      <td>194.828</td>\n",
       "      <td>0.760437</td>\n",
       "    </tr>\n",
       "    <tr>\n",
       "      <th>122536</th>\n",
       "      <td>2020</td>\n",
       "      <td>TOCANTINS</td>\n",
       "      <td>1722081</td>\n",
       "      <td>Wanderlândia - TO</td>\n",
       "      <td>678.635</td>\n",
       "      <td>738.011</td>\n",
       "      <td>0.919547</td>\n",
       "    </tr>\n",
       "    <tr>\n",
       "      <th>122538</th>\n",
       "      <td>2020</td>\n",
       "      <td>TOCANTINS</td>\n",
       "      <td>1722107</td>\n",
       "      <td>Xambioá - TO</td>\n",
       "      <td>653.902</td>\n",
       "      <td>601.947</td>\n",
       "      <td>1.08631</td>\n",
       "    </tr>\n",
       "  </tbody>\n",
       "</table>\n",
       "<p>61270 rows × 7 columns</p>\n",
       "</div>"
      ],
      "text/plain": [
       "         Ano    ARmaior  Armenor            NomeMunic        f        m  \\\n",
       "0       2010       ACRE  1200013      Acrelândia - AC  338.301  519.566   \n",
       "2       2010       ACRE  1200054    Assis Brasil - AC  169.161  207.609   \n",
       "4       2010       ACRE  1200104       Brasiléia - AC  728.267  862.886   \n",
       "6       2010       ACRE  1200138          Bujari - AC  234.997  388.902   \n",
       "8       2010       ACRE  1200179        Capixaba - AC  250.178  361.568   \n",
       "...      ...        ...      ...                  ...      ...      ...   \n",
       "122530  2020  TOCANTINS  1721208  Tocantinópolis - TO  1423.12  1186.91   \n",
       "122532  2020  TOCANTINS  1721257        Tupirama - TO  97.7162  109.617   \n",
       "122534  2020  TOCANTINS  1721307      Tupiratins - TO  148.155  194.828   \n",
       "122536  2020  TOCANTINS  1722081    Wanderlândia - TO  678.635  738.011   \n",
       "122538  2020  TOCANTINS  1722107         Xambioá - TO  653.902  601.947   \n",
       "\n",
       "           ratio  \n",
       "0       0.651123  \n",
       "2       0.814806  \n",
       "4        0.84399  \n",
       "6        0.60426  \n",
       "8       0.691925  \n",
       "...          ...  \n",
       "122530   1.19901  \n",
       "122532   0.89143  \n",
       "122534  0.760437  \n",
       "122536  0.919547  \n",
       "122538   1.08631  \n",
       "\n",
       "[61270 rows x 7 columns]"
      ]
     },
     "execution_count": 19,
     "metadata": {},
     "output_type": "execute_result"
    }
   ],
   "source": [
    "df"
   ]
  },
  {
   "cell_type": "markdown",
   "metadata": {},
   "source": [
    "Temos o DataFrame planejado no início!"
   ]
  },
  {
   "cell_type": "code",
   "execution_count": 2,
   "metadata": {
    "scrolled": true
   },
   "outputs": [],
   "source": [
    "# Gerando shape do brasil dividido em estados com a biblioteca GEOBR\n",
    "shape_br = read_state(code_state='all')\n",
    "# shape_br.plot()\n",
    "\n",
    "shape_counties = read_municipality(code_muni='all', year=2018)"
   ]
  },
  {
   "cell_type": "code",
   "execution_count": 20,
   "metadata": {},
   "outputs": [
    {
     "data": {
      "text/html": [
       "<div>\n",
       "<style scoped>\n",
       "    .dataframe tbody tr th:only-of-type {\n",
       "        vertical-align: middle;\n",
       "    }\n",
       "\n",
       "    .dataframe tbody tr th {\n",
       "        vertical-align: top;\n",
       "    }\n",
       "\n",
       "    .dataframe thead th {\n",
       "        text-align: right;\n",
       "    }\n",
       "</style>\n",
       "<table border=\"1\" class=\"dataframe\">\n",
       "  <thead>\n",
       "    <tr style=\"text-align: right;\">\n",
       "      <th></th>\n",
       "      <th>code_muni</th>\n",
       "      <th>name_muni</th>\n",
       "      <th>code_state</th>\n",
       "      <th>abbrev_state</th>\n",
       "      <th>geometry</th>\n",
       "    </tr>\n",
       "  </thead>\n",
       "  <tbody>\n",
       "    <tr>\n",
       "      <th>0</th>\n",
       "      <td>1100015.0</td>\n",
       "      <td>Alta Floresta D'oeste</td>\n",
       "      <td>11</td>\n",
       "      <td>RO</td>\n",
       "      <td>MULTIPOLYGON (((-62.23224 -11.90804, -62.20670...</td>\n",
       "    </tr>\n",
       "    <tr>\n",
       "      <th>1</th>\n",
       "      <td>1100023.0</td>\n",
       "      <td>Ariquemes</td>\n",
       "      <td>11</td>\n",
       "      <td>RO</td>\n",
       "      <td>MULTIPOLYGON (((-63.57327 -9.78326, -63.57016 ...</td>\n",
       "    </tr>\n",
       "    <tr>\n",
       "      <th>2</th>\n",
       "      <td>1100031.0</td>\n",
       "      <td>Cabixi</td>\n",
       "      <td>11</td>\n",
       "      <td>RO</td>\n",
       "      <td>MULTIPOLYGON (((-60.71834 -13.39058, -60.70904...</td>\n",
       "    </tr>\n",
       "    <tr>\n",
       "      <th>3</th>\n",
       "      <td>1100049.0</td>\n",
       "      <td>Cacoal</td>\n",
       "      <td>11</td>\n",
       "      <td>RO</td>\n",
       "      <td>MULTIPOLYGON (((-61.27873 -11.50596, -61.28097...</td>\n",
       "    </tr>\n",
       "    <tr>\n",
       "      <th>4</th>\n",
       "      <td>1100056.0</td>\n",
       "      <td>Cerejeiras</td>\n",
       "      <td>11</td>\n",
       "      <td>RO</td>\n",
       "      <td>MULTIPOLYGON (((-61.41347 -13.23417, -61.42603...</td>\n",
       "    </tr>\n",
       "    <tr>\n",
       "      <th>...</th>\n",
       "      <td>...</td>\n",
       "      <td>...</td>\n",
       "      <td>...</td>\n",
       "      <td>...</td>\n",
       "      <td>...</td>\n",
       "    </tr>\n",
       "    <tr>\n",
       "      <th>5567</th>\n",
       "      <td>5222005.0</td>\n",
       "      <td>Vianópolis</td>\n",
       "      <td>52</td>\n",
       "      <td>GO</td>\n",
       "      <td>POLYGON ((-48.53842 -16.75003, -48.54051 -16.7...</td>\n",
       "    </tr>\n",
       "    <tr>\n",
       "      <th>5568</th>\n",
       "      <td>5222054.0</td>\n",
       "      <td>Vicentinópolis</td>\n",
       "      <td>52</td>\n",
       "      <td>GO</td>\n",
       "      <td>POLYGON ((-50.00189 -17.78179, -50.01420 -17.7...</td>\n",
       "    </tr>\n",
       "    <tr>\n",
       "      <th>5569</th>\n",
       "      <td>5222203.0</td>\n",
       "      <td>Vila Boa</td>\n",
       "      <td>52</td>\n",
       "      <td>GO</td>\n",
       "      <td>POLYGON ((-47.07742 -15.06330, -47.07851 -15.0...</td>\n",
       "    </tr>\n",
       "    <tr>\n",
       "      <th>5570</th>\n",
       "      <td>5222302.0</td>\n",
       "      <td>Vila Propício</td>\n",
       "      <td>52</td>\n",
       "      <td>GO</td>\n",
       "      <td>POLYGON ((-48.91463 -15.20939, -48.91532 -15.1...</td>\n",
       "    </tr>\n",
       "    <tr>\n",
       "      <th>5571</th>\n",
       "      <td>5300108.0</td>\n",
       "      <td>Brasília</td>\n",
       "      <td>53</td>\n",
       "      <td>DF</td>\n",
       "      <td>MULTIPOLYGON (((-47.81455 -16.04995, -48.27781...</td>\n",
       "    </tr>\n",
       "  </tbody>\n",
       "</table>\n",
       "<p>5572 rows × 5 columns</p>\n",
       "</div>"
      ],
      "text/plain": [
       "      code_muni              name_muni code_state abbrev_state  \\\n",
       "0     1100015.0  Alta Floresta D'oeste         11           RO   \n",
       "1     1100023.0              Ariquemes         11           RO   \n",
       "2     1100031.0                 Cabixi         11           RO   \n",
       "3     1100049.0                 Cacoal         11           RO   \n",
       "4     1100056.0             Cerejeiras         11           RO   \n",
       "...         ...                    ...        ...          ...   \n",
       "5567  5222005.0             Vianópolis         52           GO   \n",
       "5568  5222054.0         Vicentinópolis         52           GO   \n",
       "5569  5222203.0               Vila Boa         52           GO   \n",
       "5570  5222302.0          Vila Propício         52           GO   \n",
       "5571  5300108.0               Brasília         53           DF   \n",
       "\n",
       "                                               geometry  \n",
       "0     MULTIPOLYGON (((-62.23224 -11.90804, -62.20670...  \n",
       "1     MULTIPOLYGON (((-63.57327 -9.78326, -63.57016 ...  \n",
       "2     MULTIPOLYGON (((-60.71834 -13.39058, -60.70904...  \n",
       "3     MULTIPOLYGON (((-61.27873 -11.50596, -61.28097...  \n",
       "4     MULTIPOLYGON (((-61.41347 -13.23417, -61.42603...  \n",
       "...                                                 ...  \n",
       "5567  POLYGON ((-48.53842 -16.75003, -48.54051 -16.7...  \n",
       "5568  POLYGON ((-50.00189 -17.78179, -50.01420 -17.7...  \n",
       "5569  POLYGON ((-47.07742 -15.06330, -47.07851 -15.0...  \n",
       "5570  POLYGON ((-48.91463 -15.20939, -48.91532 -15.1...  \n",
       "5571  MULTIPOLYGON (((-47.81455 -16.04995, -48.27781...  \n",
       "\n",
       "[5572 rows x 5 columns]"
      ]
     },
     "execution_count": 20,
     "metadata": {},
     "output_type": "execute_result"
    }
   ],
   "source": [
    "shape_counties"
   ]
  },
  {
   "cell_type": "code",
   "execution_count": 26,
   "metadata": {},
   "outputs": [
    {
     "data": {
      "text/html": [
       "<div>\n",
       "<style scoped>\n",
       "    .dataframe tbody tr th:only-of-type {\n",
       "        vertical-align: middle;\n",
       "    }\n",
       "\n",
       "    .dataframe tbody tr th {\n",
       "        vertical-align: top;\n",
       "    }\n",
       "\n",
       "    .dataframe thead th {\n",
       "        text-align: right;\n",
       "    }\n",
       "</style>\n",
       "<table border=\"1\" class=\"dataframe\">\n",
       "  <thead>\n",
       "    <tr style=\"text-align: right;\">\n",
       "      <th></th>\n",
       "      <th>Ano</th>\n",
       "      <th>ARmaior</th>\n",
       "      <th>Armenor</th>\n",
       "      <th>NomeMunic</th>\n",
       "      <th>f</th>\n",
       "      <th>m</th>\n",
       "      <th>ratio</th>\n",
       "      <th>code_muni</th>\n",
       "      <th>geometry</th>\n",
       "    </tr>\n",
       "  </thead>\n",
       "  <tbody>\n",
       "    <tr>\n",
       "      <th>0</th>\n",
       "      <td>2010</td>\n",
       "      <td>ACRE</td>\n",
       "      <td>1200013</td>\n",
       "      <td>Acrelândia - AC</td>\n",
       "      <td>338.301</td>\n",
       "      <td>519.566</td>\n",
       "      <td>0.651123</td>\n",
       "      <td>1200013.0</td>\n",
       "      <td>MULTIPOLYGON (((-67.09001 -9.95789, -67.10019 ...</td>\n",
       "    </tr>\n",
       "    <tr>\n",
       "      <th>1</th>\n",
       "      <td>2011</td>\n",
       "      <td>ACRE</td>\n",
       "      <td>1200013</td>\n",
       "      <td>Acrelândia - AC</td>\n",
       "      <td>362.209</td>\n",
       "      <td>546.267</td>\n",
       "      <td>0.663062</td>\n",
       "      <td>1200013.0</td>\n",
       "      <td>MULTIPOLYGON (((-67.09001 -9.95789, -67.10019 ...</td>\n",
       "    </tr>\n",
       "    <tr>\n",
       "      <th>2</th>\n",
       "      <td>2012</td>\n",
       "      <td>ACRE</td>\n",
       "      <td>1200013</td>\n",
       "      <td>Acrelândia - AC</td>\n",
       "      <td>388.085</td>\n",
       "      <td>575.244</td>\n",
       "      <td>0.674644</td>\n",
       "      <td>1200013.0</td>\n",
       "      <td>MULTIPOLYGON (((-67.09001 -9.95789, -67.10019 ...</td>\n",
       "    </tr>\n",
       "    <tr>\n",
       "      <th>3</th>\n",
       "      <td>2013</td>\n",
       "      <td>ACRE</td>\n",
       "      <td>1200013</td>\n",
       "      <td>Acrelândia - AC</td>\n",
       "      <td>416.073</td>\n",
       "      <td>606.522</td>\n",
       "      <td>0.685998</td>\n",
       "      <td>1200013.0</td>\n",
       "      <td>MULTIPOLYGON (((-67.09001 -9.95789, -67.10019 ...</td>\n",
       "    </tr>\n",
       "    <tr>\n",
       "      <th>4</th>\n",
       "      <td>2014</td>\n",
       "      <td>ACRE</td>\n",
       "      <td>1200013</td>\n",
       "      <td>Acrelândia - AC</td>\n",
       "      <td>446.185</td>\n",
       "      <td>640.099</td>\n",
       "      <td>0.697055</td>\n",
       "      <td>1200013.0</td>\n",
       "      <td>MULTIPOLYGON (((-67.09001 -9.95789, -67.10019 ...</td>\n",
       "    </tr>\n",
       "    <tr>\n",
       "      <th>...</th>\n",
       "      <td>...</td>\n",
       "      <td>...</td>\n",
       "      <td>...</td>\n",
       "      <td>...</td>\n",
       "      <td>...</td>\n",
       "      <td>...</td>\n",
       "      <td>...</td>\n",
       "      <td>...</td>\n",
       "      <td>...</td>\n",
       "    </tr>\n",
       "    <tr>\n",
       "      <th>61265</th>\n",
       "      <td>2016</td>\n",
       "      <td>TOCANTINS</td>\n",
       "      <td>1722107</td>\n",
       "      <td>Xambioá - TO</td>\n",
       "      <td>595.447</td>\n",
       "      <td>596.111</td>\n",
       "      <td>0.998886</td>\n",
       "      <td>1722107.0</td>\n",
       "      <td>MULTIPOLYGON (((-48.38646 -6.38016, -48.38268 ...</td>\n",
       "    </tr>\n",
       "    <tr>\n",
       "      <th>61266</th>\n",
       "      <td>2017</td>\n",
       "      <td>TOCANTINS</td>\n",
       "      <td>1722107</td>\n",
       "      <td>Xambioá - TO</td>\n",
       "      <td>610.009</td>\n",
       "      <td>597.621</td>\n",
       "      <td>1.02073</td>\n",
       "      <td>1722107.0</td>\n",
       "      <td>MULTIPOLYGON (((-48.38646 -6.38016, -48.38268 ...</td>\n",
       "    </tr>\n",
       "    <tr>\n",
       "      <th>61267</th>\n",
       "      <td>2018</td>\n",
       "      <td>TOCANTINS</td>\n",
       "      <td>1722107</td>\n",
       "      <td>Xambioá - TO</td>\n",
       "      <td>624.716</td>\n",
       "      <td>599.008</td>\n",
       "      <td>1.04292</td>\n",
       "      <td>1722107.0</td>\n",
       "      <td>MULTIPOLYGON (((-48.38646 -6.38016, -48.38268 ...</td>\n",
       "    </tr>\n",
       "    <tr>\n",
       "      <th>61268</th>\n",
       "      <td>2019</td>\n",
       "      <td>TOCANTINS</td>\n",
       "      <td>1722107</td>\n",
       "      <td>Xambioá - TO</td>\n",
       "      <td>639.414</td>\n",
       "      <td>600.431</td>\n",
       "      <td>1.06493</td>\n",
       "      <td>1722107.0</td>\n",
       "      <td>MULTIPOLYGON (((-48.38646 -6.38016, -48.38268 ...</td>\n",
       "    </tr>\n",
       "    <tr>\n",
       "      <th>61269</th>\n",
       "      <td>2020</td>\n",
       "      <td>TOCANTINS</td>\n",
       "      <td>1722107</td>\n",
       "      <td>Xambioá - TO</td>\n",
       "      <td>653.902</td>\n",
       "      <td>601.947</td>\n",
       "      <td>1.08631</td>\n",
       "      <td>1722107.0</td>\n",
       "      <td>MULTIPOLYGON (((-48.38646 -6.38016, -48.38268 ...</td>\n",
       "    </tr>\n",
       "  </tbody>\n",
       "</table>\n",
       "<p>61270 rows × 9 columns</p>\n",
       "</div>"
      ],
      "text/plain": [
       "        Ano    ARmaior  Armenor        NomeMunic        f        m     ratio  \\\n",
       "0      2010       ACRE  1200013  Acrelândia - AC  338.301  519.566  0.651123   \n",
       "1      2011       ACRE  1200013  Acrelândia - AC  362.209  546.267  0.663062   \n",
       "2      2012       ACRE  1200013  Acrelândia - AC  388.085  575.244  0.674644   \n",
       "3      2013       ACRE  1200013  Acrelândia - AC  416.073  606.522  0.685998   \n",
       "4      2014       ACRE  1200013  Acrelândia - AC  446.185  640.099  0.697055   \n",
       "...     ...        ...      ...              ...      ...      ...       ...   \n",
       "61265  2016  TOCANTINS  1722107     Xambioá - TO  595.447  596.111  0.998886   \n",
       "61266  2017  TOCANTINS  1722107     Xambioá - TO  610.009  597.621   1.02073   \n",
       "61267  2018  TOCANTINS  1722107     Xambioá - TO  624.716  599.008   1.04292   \n",
       "61268  2019  TOCANTINS  1722107     Xambioá - TO  639.414  600.431   1.06493   \n",
       "61269  2020  TOCANTINS  1722107     Xambioá - TO  653.902  601.947   1.08631   \n",
       "\n",
       "       code_muni                                           geometry  \n",
       "0      1200013.0  MULTIPOLYGON (((-67.09001 -9.95789, -67.10019 ...  \n",
       "1      1200013.0  MULTIPOLYGON (((-67.09001 -9.95789, -67.10019 ...  \n",
       "2      1200013.0  MULTIPOLYGON (((-67.09001 -9.95789, -67.10019 ...  \n",
       "3      1200013.0  MULTIPOLYGON (((-67.09001 -9.95789, -67.10019 ...  \n",
       "4      1200013.0  MULTIPOLYGON (((-67.09001 -9.95789, -67.10019 ...  \n",
       "...          ...                                                ...  \n",
       "61265  1722107.0  MULTIPOLYGON (((-48.38646 -6.38016, -48.38268 ...  \n",
       "61266  1722107.0  MULTIPOLYGON (((-48.38646 -6.38016, -48.38268 ...  \n",
       "61267  1722107.0  MULTIPOLYGON (((-48.38646 -6.38016, -48.38268 ...  \n",
       "61268  1722107.0  MULTIPOLYGON (((-48.38646 -6.38016, -48.38268 ...  \n",
       "61269  1722107.0  MULTIPOLYGON (((-48.38646 -6.38016, -48.38268 ...  \n",
       "\n",
       "[61270 rows x 9 columns]"
      ]
     },
     "execution_count": 26,
     "metadata": {},
     "output_type": "execute_result"
    }
   ],
   "source": [
    "# Cria a coluna com o poligono representante de cada cidade e adiciona ela ao data_city\n",
    "shape_counties = shape_counties[['code_muni', 'geometry']]\n",
    "df = df.merge(shape_counties,how='inner', left_on='Armenor', right_on='code_muni')\n",
    "df"
   ]
  },
  {
   "cell_type": "markdown",
   "metadata": {},
   "source": [
    "Limpando linhas com a coluna \"ratio\" em branco"
   ]
  },
  {
   "cell_type": "code",
   "execution_count": 43,
   "metadata": {},
   "outputs": [],
   "source": [
    "desired_type = type(df.ratio[1])"
   ]
  },
  {
   "cell_type": "code",
   "execution_count": 46,
   "metadata": {},
   "outputs": [],
   "source": [
    "for i in range(len(df.ratio)):\n",
    "    if type(df.ratio[i]) != desired_type:\n",
    "        df = df.drop([i])"
   ]
  },
  {
   "cell_type": "code",
   "execution_count": null,
   "metadata": {},
   "outputs": [],
   "source": [
    "#Faz a plotagem dos mapas por semana epidemiológica \n",
    "for ano in range(2010,2011):\n",
    "    ano_x = df[df.Ano == ano]\n",
    "    \n",
    "    #Fazendo o typecasting para GeoDataFrame\n",
    "    ano_x = gpd.GeoDataFrame(ano_x)\n",
    "    copy = gpd.GeoDataFrame(df)\n",
    "    copy2 = shape_br\n",
    "    copy2['coords'] = copy2['geometry'].apply(lambda x: x.representative_point().coords[:])\n",
    "    copy2['coords'] = [coords[0] for coords in copy2['coords']]\n",
    "    \n",
    "    fig, ax = plt.subplots(figsize=(20, 15))\n",
    "    ano_x.plot(column='ratio', cmap='bwr_r', vmin=0.0, legend=True,vmax=df['ratio'].max(), legend_kwds={'label': f\"(Em %)\", 'orientation': \"vertical\"}, ax=ax)\n",
    "    \n",
    "    ax.annotate(f'Ano {ano}', xy=(0.1,.225),xycoords='figure fraction',horizontalalignment='left', verticalalignment='top',fontsize=35)\n",
    "    copy2.geometry.boundary.plot(color=None,edgecolor='#888888',linewidth = 0.3,ax=ax)\n",
    "    ax.set_title(f\"Razão entre idosas e idosos por Município (em %)\", fontdict={'fontsize':25})\n",
    "    ax.axis('off')\n",
    "    \n",
    "    for i, j in copy2.iterrows():\n",
    "        plt.annotate(s=j[1], xy=j['coords'], horizontalalignment='center', verticalalignment='center', fontsize=20)\n",
    "    plt.show()\n",
    "    # Salva cada mapa como um chart\n",
    "    chart = ax.get_figure()\n",
    "    chart.savefig(f'Ano_{ano}_idosos.png', dpi=120)"
   ]
  },
  {
   "cell_type": "code",
   "execution_count": null,
   "metadata": {},
   "outputs": [],
   "source": []
  }
 ],
 "metadata": {
  "kernelspec": {
   "display_name": "Python 3",
   "language": "python",
   "name": "python3"
  },
  "language_info": {
   "codemirror_mode": {
    "name": "ipython",
    "version": 3
   },
   "file_extension": ".py",
   "mimetype": "text/x-python",
   "name": "python",
   "nbconvert_exporter": "python",
   "pygments_lexer": "ipython3",
   "version": "3.8.5"
  }
 },
 "nbformat": 4,
 "nbformat_minor": 4
}
